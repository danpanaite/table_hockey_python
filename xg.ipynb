{
 "metadata": {
  "language_info": {
   "codemirror_mode": {
    "name": "ipython",
    "version": 3
   },
   "file_extension": ".py",
   "mimetype": "text/x-python",
   "name": "python",
   "nbconvert_exporter": "python",
   "pygments_lexer": "ipython3",
   "version": "3.6.9-final"
  },
  "orig_nbformat": 2,
  "kernelspec": {
   "name": "python_defaultSpec_1600792096372",
   "display_name": "Python 3.6.9 64-bit"
  }
 },
 "nbformat": 4,
 "nbformat_minor": 2,
 "cells": [
  {
   "cell_type": "code",
   "execution_count": 2,
   "metadata": {},
   "outputs": [],
   "source": [
    "%run shots_data.py"
   ]
  },
  {
   "cell_type": "code",
   "execution_count": 6,
   "metadata": {
    "tags": []
   },
   "outputs": [
    {
     "output_type": "stream",
     "name": "stdout",
     "text": "Grabbing data for 20102011\n  0%|          | 0/64111 [00:00<?, ?it/s]\nGrabbing data for 20112012\n  0%|          | 0/63941 [00:00<?, ?it/s]\nGrabbing data for 20122013\n  0%|          | 0/38994 [00:00<?, ?it/s]\nGrabbing data for 20132014\n  0%|          | 0/64890 [00:00<?, ?it/s]\nGrabbing data for 20142015\n  0%|          | 0/66279 [00:00<?, ?it/s]\nGrabbing data for 20152016\n  0%|          | 0/65446 [00:00<?, ?it/s]\nGrabbing data for 20162017\n  0%|          | 0/66962 [00:00<?, ?it/s]\nGrabbing data for 20172018\n  0%|          | 0/71901 [00:00<?, ?it/s]\nGrabbing data for 20182019\n  0%|          | 0/71822 [00:00<?, ?it/s]\nGrabbing data for 20192020\n  0%|          | 0/56880 [00:00<?, ?it/s]\n"
    }
   ],
   "source": [
    "first = 5000\n",
    "strength = 'EVENSTRENGTH'\n",
    "url = \"http://172.17.0.2:4000/\"\n",
    "seasons = [\"20102011\", \"20112012\", \"20122013\", \"20132014\", \"20142015\", \"20152016\", \"20162017\", \"20172018\", \"20182019\", \"20192020\"]\n",
    "# seasons = [\"20102011\"]\n",
    "\n",
    "all_shots = get_shots_seasons(url, first, seasons, strength)\n"
   ]
  },
  {
   "cell_type": "code",
   "execution_count": 7,
   "metadata": {},
   "outputs": [
    {
     "output_type": "execute_result",
     "data": {
      "text/plain": "631226"
     },
     "metadata": {},
     "execution_count": 7
    }
   ],
   "source": [
    "feature_names = ['priorEventShot', 'priorEventSameTeam', 'coordX', 'coordY', 'angle', 'distance', 'snapShot', 'wristShot', 'slapShot', 'deflected', 'backhand', 'wrapAround', 'tipIn', 'angleChange', 'distanceChange', 'leading', 'leadingByOne', 'trailing', 'trailingByOne', 'secondsChange']\n",
    "\n"
   ]
  },
  {
   "cell_type": "code",
   "execution_count": null,
   "metadata": {},
   "outputs": [],
   "source": []
  }
 ]
}